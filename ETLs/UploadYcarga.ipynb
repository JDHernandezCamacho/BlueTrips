{
 "cells": [
  {
   "cell_type": "code",
   "execution_count": 8,
   "metadata": {},
   "outputs": [],
   "source": [
    "import pandas as pd\n",
    "import pymysql"
   ]
  },
  {
   "cell_type": "code",
   "execution_count": 9,
   "metadata": {},
   "outputs": [],
   "source": [
    "df = pd.read_csv(\"../Datasets/reservas.csv\")"
   ]
  },
  {
   "cell_type": "code",
   "execution_count": 10,
   "metadata": {},
   "outputs": [],
   "source": [
    "df = df.drop(10)"
   ]
  },
  {
   "cell_type": "code",
   "execution_count": 11,
   "metadata": {},
   "outputs": [
    {
     "data": {
      "text/plain": [
       "Index(['nombre_cliente', 'apellido_cliente', 'fecha_servicio', 'hora_servicio',\n",
       "       'aeropuerto_llegada', 'zona_destino', 'num_pasajeros', 'placa',\n",
       "       'confirmacion'],\n",
       "      dtype='object')"
      ]
     },
     "execution_count": 11,
     "metadata": {},
     "output_type": "execute_result"
    }
   ],
   "source": [
    "df.columns"
   ]
  },
  {
   "cell_type": "code",
   "execution_count": 15,
   "metadata": {},
   "outputs": [],
   "source": [
    "# Datos para conectar a la DB\n",
    "connection = pymysql.connect(\n",
    "    # Variables para la DB\n",
    "    host = 'byzuegyhogks28kbhbkn-mysql.services.clever-cloud.com',\n",
    "    user = 'uqpk8ogwqurgzkhh',\n",
    "    password = 'uXvAxUEyxLSo9dnvub27',\n",
    "    db = 'byzuegyhogks28kbhbkn'\n",
    ")\n",
    "\n",
    "# Dropea una tabla si esta existe [[[Dropea la tabla si existe]]]\n",
    "# Crear un cursor\n",
    "cursor = connection.cursor()\n",
    "create_table_query = '''\n",
    "DROP TABLE IF EXISTS `byzuegyhogks28kbhbkn`.`reservas`\n",
    "'''\n",
    " # Ejecutar la consulta\n",
    "cursor.execute(create_table_query)\n",
    "# Confirmar los cambios\n",
    "connection.commit()\n",
    "\n",
    "\n",
    "\n",
    "# Crear un cursor   [[Crea la tabla]]]\n",
    "cursor = connection.cursor()\n",
    "# Crear una tabla en la DB\n",
    "create_table_query = '''\n",
    "CREATE TABLE `byzuegyhogks28kbhbkn`.`reservas` (\n",
    "`nombre_cliente` VARCHAR(30), \n",
    "`apellido_cliente` VARCHAR(30),\n",
    "`fecha_servicio` DATE,\n",
    "`hora_servicio` TIME,\n",
    "`aeropuerto_llegada` VARCHAR(10),\n",
    "`zona_destino` VARCHAR(30),\n",
    "`num_pasajeros` INT NOT NULL,\n",
    "`placa` VARCHAR(10),\n",
    "`confirmacion` INT NOT NULL ) ENGINE = InnoDB;;\n",
    "'''\n",
    " # Ejecutar la consulta\n",
    "cursor.execute(create_table_query)\n",
    "# Confirmar los cambios\n",
    "connection.commit()\n",
    "\n",
    "\n",
    "\n",
    "# Mandar los datos a la DB [[Cargar DATA]]\n",
    "cursor = connection.cursor()\n",
    "for i, row in df.iterrows():\n",
    "    sql = '''\n",
    "    INSERT INTO `byzuegyhogks28kbhbkn`.`reservas` (\n",
    "    `nombre_cliente` , \n",
    "    `apellido_cliente` ,\n",
    "    `fecha_servicio` ,\n",
    "    `hora_servicio` ,\n",
    "    `aeropuerto_llegada` ,\n",
    "    `zona_destino` ,\n",
    "    `num_pasajeros` ,\n",
    "    `placa`,\n",
    "    `confirmacion` ) VALUES \n",
    "    (%s, %s, %s, %s, %s, %s, %s, %s, %s)\n",
    "    '''\n",
    "    cursor.execute(sql, (row['nombre_cliente'], \n",
    "                         row['apellido_cliente'], row['fecha_servicio'], row['hora_servicio'], \n",
    "                         row['aeropuerto_llegada'], row['zona_destino'], row['num_pasajeros'], row['placa'], row['confirmacion']))\n",
    "\n",
    "connection.commit()\n",
    "\n",
    "# Cerrar la conexión\n",
    "connection.close()"
   ]
  }
 ],
 "metadata": {
  "kernelspec": {
   "display_name": "Python 3",
   "language": "python",
   "name": "python3"
  },
  "language_info": {
   "codemirror_mode": {
    "name": "ipython",
    "version": 3
   },
   "file_extension": ".py",
   "mimetype": "text/x-python",
   "name": "python",
   "nbconvert_exporter": "python",
   "pygments_lexer": "ipython3",
   "version": "3.12.1"
  }
 },
 "nbformat": 4,
 "nbformat_minor": 2
}
